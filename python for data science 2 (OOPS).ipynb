{
 "cells": [
  {
   "cell_type": "code",
   "execution_count": 9,
   "id": "deaad367",
   "metadata": {},
   "outputs": [],
   "source": [
    "class Phone:\n",
    "    def set_colour(self,colour):\n",
    "        self.colour=colour\n",
    "    def set_cost(self,cost):\n",
    "        self.cost=cost\n",
    "    def show_colour(self):\n",
    "        return self.colour\n",
    "    def show_cost(self):\n",
    "        return self.cost\n",
    "    "
   ]
  },
  {
   "cell_type": "code",
   "execution_count": 10,
   "id": "e20b3bb1",
   "metadata": {},
   "outputs": [],
   "source": [
    "p1= Phone()\n"
   ]
  },
  {
   "cell_type": "code",
   "execution_count": 11,
   "id": "b5f4a7f0",
   "metadata": {},
   "outputs": [],
   "source": [
    "p1.set_colour(\"black\")"
   ]
  },
  {
   "cell_type": "code",
   "execution_count": 15,
   "id": "0cf2fd7a",
   "metadata": {},
   "outputs": [],
   "source": [
    "p1.set_cost(1000)"
   ]
  },
  {
   "cell_type": "code",
   "execution_count": 16,
   "id": "06cf7eed",
   "metadata": {},
   "outputs": [
    {
     "data": {
      "text/plain": [
       "'black'"
      ]
     },
     "execution_count": 16,
     "metadata": {},
     "output_type": "execute_result"
    }
   ],
   "source": [
    "p1.show_colour()"
   ]
  },
  {
   "cell_type": "code",
   "execution_count": 17,
   "id": "6ee7f118",
   "metadata": {},
   "outputs": [
    {
     "data": {
      "text/plain": [
       "1000"
      ]
     },
     "execution_count": 17,
     "metadata": {},
     "output_type": "execute_result"
    }
   ],
   "source": [
    "p1.show_cost()"
   ]
  },
  {
   "cell_type": "code",
   "execution_count": null,
   "id": "918414bd",
   "metadata": {},
   "outputs": [],
   "source": [
    "#constructor initaited by init method"
   ]
  },
  {
   "cell_type": "code",
   "execution_count": 29,
   "id": "b79e2088",
   "metadata": {},
   "outputs": [],
   "source": [
    "class  Employee:\n",
    "    def __init__(self,name,age,salary,gender):\n",
    "        self.name = name\n",
    "        self.age = age\n",
    "        self.salary = salary\n",
    "        self.gender = gender\n",
    "        \n",
    "    def show_employee_details(self):\n",
    "        print(\"name of employee is\",self.name)\n",
    "        print(\"age of the employee\",self.age)\n",
    "        print(\"salary of employee\",self.salary)\n",
    "        print(\"gender of the employee\",self.gender)\n",
    "            \n",
    "            \n",
    "            "
   ]
  },
  {
   "cell_type": "code",
   "execution_count": 30,
   "id": "935ff68c",
   "metadata": {},
   "outputs": [],
   "source": [
    "e1 = Employee('usman',24,1000,'male')"
   ]
  },
  {
   "cell_type": "code",
   "execution_count": 31,
   "id": "2fe5fc01",
   "metadata": {},
   "outputs": [
    {
     "name": "stdout",
     "output_type": "stream",
     "text": [
      "name of employee is usman\n",
      "age of the employee 24\n",
      "salary of employee 1000\n",
      "gender of the employee male\n"
     ]
    }
   ],
   "source": [
    "e1.show_employee_details()"
   ]
  }
 ],
 "metadata": {
  "kernelspec": {
   "display_name": "Python 3 (ipykernel)",
   "language": "python",
   "name": "python3"
  },
  "language_info": {
   "codemirror_mode": {
    "name": "ipython",
    "version": 3
   },
   "file_extension": ".py",
   "mimetype": "text/x-python",
   "name": "python",
   "nbconvert_exporter": "python",
   "pygments_lexer": "ipython3",
   "version": "3.9.7"
  }
 },
 "nbformat": 4,
 "nbformat_minor": 5
}
